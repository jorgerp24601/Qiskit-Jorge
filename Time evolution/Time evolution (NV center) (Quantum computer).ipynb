{
 "cells": [
  {
   "cell_type": "code",
   "execution_count": 12,
   "metadata": {},
   "outputs": [],
   "source": [
    "# We are going to be recreating the same experiment as in the past tutorial, so we will use the same commands:\n",
    "import numpy as np\n",
    "from qiskit import *\n",
    "%matplotlib inline\n",
    "\n",
    "# Now we create te qubits and the circuit\n",
    "q = QuantumRegister(1, 'q')\n",
    "circ = QuantumCircuit(q)"
   ]
  },
  {
   "cell_type": "code",
   "execution_count": 13,
   "metadata": {},
   "outputs": [
    {
     "data": {
      "text/plain": [
       "<qiskit.extensions.standard.h.HGate at 0x1a26b4b668>"
      ]
     },
     "execution_count": 13,
     "metadata": {},
     "output_type": "execute_result"
    }
   ],
   "source": [
    "# Now we apply the gates\n",
    "\n",
    "# First we create our initial state\n",
    "circ.h(q[0])"
   ]
  },
  {
   "cell_type": "code",
   "execution_count": 14,
   "metadata": {},
   "outputs": [],
   "source": [
    "# The Larmor frequency\n",
    "w=18.1 # (GHz)\n",
    "\n",
    "# The times that are going to be considered\n",
    "ti=0 # (ns)\n",
    "tN=1 # (ns)\n",
    "dt=0.05 # (ns)\n",
    "\n",
    "# And create the time evolution program\n",
    "while ti<tN:  \n",
    "    t = ti + dt\n",
    "    circ.u1(-w*dt,q[0]) \n",
    "    ti = t"
   ]
  },
  {
   "cell_type": "code",
   "execution_count": 15,
   "metadata": {},
   "outputs": [],
   "source": [
    "# Next we add the classical bits and complete the circuit\n",
    "c = ClassicalRegister(1, 'c')\n",
    "meas = QuantumCircuit(q, c)\n",
    "meas.barrier(q)\n",
    "meas.measure(q,c)\n",
    "qc = circ + meas"
   ]
  },
  {
   "cell_type": "code",
   "execution_count": 16,
   "metadata": {},
   "outputs": [
    {
     "data": {
      "image/png": "[encoded data removed]",
      "text/plain": [
       "<Figure size 1384.6x319.06 with 1 Axes>"
      ]
     },
     "execution_count": 16,
     "metadata": {},
     "output_type": "execute_result"
    }
   ],
   "source": [
    "# We will show the circuit too to keep track of what we are doing\n",
    "qc.draw(output='mpl')\n",
    "# Complex circuit"
   ]
  },
  {
   "cell_type": "code",
   "execution_count": 17,
   "metadata": {},
   "outputs": [
    {
     "name": "stderr",
     "output_type": "stream",
     "text": [
      "/anaconda3/envs/qiskitjorge/lib/python3.7/site-packages/qiskit/providers/ibmq/ibmqprovider.py:272: UserWarning: Credentials are already in use.\n",
      "  warnings.warn('Credentials are already in use.')\n"
     ]
    }
   ],
   "source": [
    "# Now we use the quantum computer\n",
    "\n",
    "from qiskit import IBMQ\n",
    "\n",
    "# And load our credentials\n",
    "\n",
    "IBMQ.load_accounts()"
   ]
  },
  {
   "cell_type": "code",
   "execution_count": 18,
   "metadata": {},
   "outputs": [
    {
     "name": "stdout",
     "output_type": "stream",
     "text": [
      "The best backend is ibmqx2\n"
     ]
    }
   ],
   "source": [
    "# The best available backend\n",
    "\n",
    "from qiskit.providers.ibmq import least_busy\n",
    "\n",
    "usefulbackends=IBMQ.backends(filters=lambda x: x.configuration().n_qubits >= 1 and\n",
    "                                                       not x.configuration().simulator)\n",
    "backend=least_busy(usefulbackends)\n",
    "\n",
    "print(\"The best backend is \" + backend.name())"
   ]
  },
  {
   "cell_type": "code",
   "execution_count": 19,
   "metadata": {},
   "outputs": [
    {
     "name": "stdout",
     "output_type": "stream",
     "text": [
      "Job Status: job has successfully run\n"
     ]
    }
   ],
   "source": [
    "# Now we execute our circuit\n",
    "\n",
    "from qiskit.tools.monitor import job_monitor\n",
    "\n",
    "max_credits = 3\n",
    "\n",
    "shots = 2048\n",
    "\n",
    "job=execute(qc, backend=backend, shots=shots, max_credits=max_credits)\n",
    "\n",
    "# In order to see when the simulation is done\n",
    "\n",
    "job_monitor(job)"
   ]
  },
  {
   "cell_type": "code",
   "execution_count": 20,
   "metadata": {},
   "outputs": [],
   "source": [
    "# Now we extract the data\n",
    "\n",
    "result = job.result()"
   ]
  },
  {
   "cell_type": "code",
   "execution_count": 21,
   "metadata": {
    "scrolled": true
   },
   "outputs": [
    {
     "data": {
      "image/png": "[encoded data removed]",
      "text/plain": [
       "<Figure size 504x360 with 1 Axes>"
      ]
     },
     "execution_count": 21,
     "metadata": {},
     "output_type": "execute_result"
    }
   ],
   "source": [
    "# And we draw the results\n",
    "counts=result.get_counts(qc)\n",
    "from qiskit.visualization import plot_histogram\n",
    "plot_histogram(counts)"
   ]
  }
 ],
 "metadata": {
  "kernelspec": {
   "display_name": "Python 3",
   "language": "python",
   "name": "python3"
  },
  "language_info": {
   "codemirror_mode": {
    "name": "ipython",
    "version": 3
   },
   "file_extension": ".py",
   "mimetype": "text/x-python",
   "name": "python",
   "nbconvert_exporter": "python",
   "pygments_lexer": "ipython3",
   "version": "3.7.3"
  }
 },
 "nbformat": 4,
 "nbformat_minor": 2
}
