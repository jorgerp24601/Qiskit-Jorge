{
 "cells": [
  {
   "cell_type": "code",
   "execution_count": 1,
   "metadata": {},
   "outputs": [
    {
     "data": {
      "image/png": "[encoded data removed]",
      "text/plain": [
       "<Figure size 782.6x379.26 with 1 Axes>"
      ]
     },
     "execution_count": 1,
     "metadata": {},
     "output_type": "execute_result"
    }
   ],
   "source": [
    "# We are going to be recreating the same experiment as in the past tutorial, so we will use the same commands:\n",
    "import numpy as np\n",
    "from qiskit import *\n",
    "%matplotlib inline\n",
    "\n",
    "# Now we create te qubits and the circuit\n",
    "q = QuantumRegister(3, 'q')\n",
    "circ = QuantumCircuit(q)\n",
    "\n",
    "# And we apply the gates\n",
    "circ.h(q[0])\n",
    "circ.cx(q[0], q[1])\n",
    "circ.cx(q[0], q[2])\n",
    "\n",
    "# Next we add the classical bits and complete the circuit\n",
    "c = ClassicalRegister(3, 'c')\n",
    "meas = QuantumCircuit(q, c)\n",
    "meas.barrier(q)\n",
    "meas.measure(q,c)\n",
    "qc = circ + meas\n",
    "\n",
    "# We will show the circuit too to keep track of what we are doing\n",
    "qc.draw(output='mpl')"
   ]
  },
  {
   "cell_type": "code",
   "execution_count": 2,
   "metadata": {},
   "outputs": [],
   "source": [
    "# Now we want to implement our circuit in a real quantum computer\n",
    "# To do that, we have to use our API key to log-in\n",
    "# First we have to import the IBM Q service with the command:\n",
    "\n",
    "from qiskit import IBMQ"
   ]
  },
  {
   "cell_type": "code",
   "execution_count": 3,
   "metadata": {},
   "outputs": [
    {
     "data": {
      "text/plain": [
       "[]"
      ]
     },
     "execution_count": 3,
     "metadata": {},
     "output_type": "execute_result"
    }
   ],
   "source": [
    "# Now, we have to save out account. \n",
    "# In order to do that we will first delete every account we may have stored\n",
    "\n",
    "IBMQ.delete_accounts()\n",
    "\n",
    "# And assure we have deleted all accounts\n",
    "\n",
    "IBMQ.stored_accounts()"
   ]
  },
  {
   "cell_type": "code",
   "execution_count": 4,
   "metadata": {},
   "outputs": [],
   "source": [
    "# Now we have to save our account into our computer\n",
    "# To do that, we simply run the command\n",
    "\n",
    "IBMQ.save_account('APIKEYTOKENHERE', 'URLHERE')"
   ]
  },
  {
   "cell_type": "code",
   "execution_count": 5,
   "metadata": {},
   "outputs": [],
   "source": [
    "# Now we load our credentials\n",
    "\n",
    "IBMQ.load_accounts()"
   ]
  },
  {
   "cell_type": "code",
   "execution_count": 6,
   "metadata": {},
   "outputs": [
    {
     "name": "stdout",
     "output_type": "stream",
     "text": [
      "Available backends:\n"
     ]
    },
    {
     "data": {
      "text/plain": [
       "[<IBMQSimulator('ibmq_qasm_simulator') from IBMQ(ibm-q, open, main)>,\n",
       " <IBMQBackend('ibmqx4') from IBMQ(ibm-q, open, main)>,\n",
       " <IBMQBackend('ibmqx2') from IBMQ(ibm-q, open, main)>,\n",
       " <IBMQBackend('ibmq_16_melbourne') from IBMQ(ibm-q, open, main)>]"
      ]
     },
     "execution_count": 6,
     "metadata": {},
     "output_type": "execute_result"
    }
   ],
   "source": [
    "# Here we want to see how many backends we have available\n",
    "# In order to do that we run the following commands\n",
    "\n",
    "print(\"Available backends:\")\n",
    "IBMQ.backends()\n",
    "\n",
    "# This will show us which backends do we have available"
   ]
  },
  {
   "cell_type": "code",
   "execution_count": 7,
   "metadata": {},
   "outputs": [],
   "source": [
    "# Now we want to use the best backend for our project\n",
    "# In order to do that we have to see which one fits our experiment the best\n",
    "# We are goint to import the package that allows us to do that\n",
    "\n",
    "from qiskit.providers.ibmq import least_busy"
   ]
  },
  {
   "cell_type": "code",
   "execution_count": 8,
   "metadata": {},
   "outputs": [
    {
     "data": {
      "text/plain": [
       "[<IBMQBackend('ibmqx4') from IBMQ(ibm-q, open, main)>,\n",
       " <IBMQBackend('ibmqx2') from IBMQ(ibm-q, open, main)>,\n",
       " <IBMQBackend('ibmq_16_melbourne') from IBMQ(ibm-q, open, main)>]"
      ]
     },
     "execution_count": 8,
     "metadata": {},
     "output_type": "execute_result"
    }
   ],
   "source": [
    "#Now we select the least busy backend\n",
    "#First we create a list of the backends with certain properties\n",
    "\n",
    "usefulbackends=IBMQ.backends(filters=lambda x: x.configuration().n_qubits >= 4 and\n",
    "                                                       not x.configuration().simulator)\n",
    "\n",
    "# In this case we want to find a device that can support our program\n",
    "# And a device that is not a simulator\n",
    "\n",
    "# The number of qubits can be modified\n",
    "# Since we are using three qubits, we just run .n_qubits >= 3 \n",
    "# Three or more qubits\n",
    "# We print those devices\n",
    "usefulbackends"
   ]
  },
  {
   "cell_type": "code",
   "execution_count": 9,
   "metadata": {},
   "outputs": [
    {
     "name": "stdout",
     "output_type": "stream",
     "text": [
      "The best backend is ibmqx2\n"
     ]
    }
   ],
   "source": [
    "# From all of the above, that are useful for our purposes \n",
    "# we find the one with the shortest queue in order to \n",
    "# implement our program as soon as posible\n",
    "\n",
    "backend=least_busy(usefulbackends)\n",
    "\n",
    "# And we print it in order to know which one is it\n",
    "\n",
    "print(\"The best backend is \" + backend.name())"
   ]
  },
  {
   "cell_type": "code",
   "execution_count": 10,
   "metadata": {},
   "outputs": [],
   "source": [
    "# We now import the package that allows us to do a job\n",
    "\n",
    "from qiskit.tools.monitor import job_monitor"
   ]
  },
  {
   "cell_type": "code",
   "execution_count": 11,
   "metadata": {},
   "outputs": [],
   "source": [
    "# Now, to use a real IBM Q computer we have to use some credits\n",
    "# We have a total of 15 credits to use, and they regenerate every 24h\n",
    "# or when the experiment has run out of the queue\n",
    "# Each experiment costs between 3 and 5 credits\n",
    "# Therefore, it is useful to use the simmulator first and the run the experiment\n",
    "# We have to specify the maximum number of credits we want to spend\n",
    "\n",
    "max_credits = 3"
   ]
  },
  {
   "cell_type": "code",
   "execution_count": 12,
   "metadata": {},
   "outputs": [],
   "source": [
    "# And now we have to specify how many times do we have to run the experiment\n",
    "\n",
    "shots = 1024"
   ]
  },
  {
   "cell_type": "code",
   "execution_count": 13,
   "metadata": {},
   "outputs": [],
   "source": [
    "# With all that information we can create a job\n",
    "\n",
    "job=execute(qc, backend=backend, shots=shots, max_credits=max_credits)\n",
    "\n",
    "# We are going to run the qc circuit with the backend we selected before"
   ]
  },
  {
   "cell_type": "code",
   "execution_count": 14,
   "metadata": {},
   "outputs": [
    {
     "name": "stdout",
     "output_type": "stream",
     "text": [
      "Job Status: job has successfully run\n"
     ]
    }
   ],
   "source": [
    "# To check the status of our job we run the following command\n",
    "\n",
    "job_monitor(job)"
   ]
  },
  {
   "cell_type": "code",
   "execution_count": 15,
   "metadata": {},
   "outputs": [],
   "source": [
    "# Once our job has succesfully run, we want to extract the results\n",
    "\n",
    "result=job.result()"
   ]
  },
  {
   "cell_type": "code",
   "execution_count": 16,
   "metadata": {},
   "outputs": [],
   "source": [
    "# To get the times every state has been obtained we use\n",
    "\n",
    "counts=result.get_counts(qc)"
   ]
  },
  {
   "cell_type": "code",
   "execution_count": 17,
   "metadata": {},
   "outputs": [
    {
     "data": {
      "image/png": "[encoded data removed]",
      "text/plain": [
       "<Figure size 504x360 with 1 Axes>"
      ]
     },
     "execution_count": 17,
     "metadata": {},
     "output_type": "execute_result"
    }
   ],
   "source": [
    "# And we plot the histogram of the experiment\n",
    "from qiskit.visualization import plot_histogram\n",
    "plot_histogram(counts)"
   ]
  },
  {
   "cell_type": "code",
   "execution_count": 18,
   "metadata": {},
   "outputs": [],
   "source": [
    "# If we compare the experimental results with the simulation \n",
    "# We see that the 50% probabilities of each state does not hold\n",
    "# We run now the simulation\n",
    "backendsim = BasicAer.get_backend('qasm_simulator')\n",
    "jobsim = execute(qc, backendsim, shots=1024)\n",
    "resultsim = jobsim.result()\n",
    "countssim = resultsim.get_counts(qc)"
   ]
  },
  {
   "cell_type": "code",
   "execution_count": 19,
   "metadata": {},
   "outputs": [
    {
     "data": {
      "image/png": "[encoded data removed]",
      "text/plain": [
       "<Figure size 504x360 with 1 Axes>"
      ]
     },
     "execution_count": 19,
     "metadata": {},
     "output_type": "execute_result"
    }
   ],
   "source": [
    "# We now plot the experimental results with the simulation\n",
    "plot_histogram([counts, countssim])"
   ]
  },
  {
   "cell_type": "code",
   "execution_count": null,
   "metadata": {},
   "outputs": [],
   "source": [
    "# Seeing here the error one can find in the gates"
   ]
  }
 ],
 "metadata": {
  "kernelspec": {
   "display_name": "Python 3",
   "language": "python",
   "name": "python3"
  },
  "language_info": {
   "codemirror_mode": {
    "name": "ipython",
    "version": 3
   },
   "file_extension": ".py",
   "mimetype": "text/x-python",
   "name": "python",
   "nbconvert_exporter": "python",
   "pygments_lexer": "ipython3",
   "version": "3.7.3"
  }
 },
 "nbformat": 4,
 "nbformat_minor": 2
}
