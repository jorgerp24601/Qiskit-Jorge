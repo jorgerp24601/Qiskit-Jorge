{
 "cells": [
  {
   "cell_type": "code",
   "execution_count": 1,
   "metadata": {},
   "outputs": [],
   "source": [
    "# These three lines are what allow us to code with qiskit\n",
    "# they should be the first lines to be written in every code\n",
    "# we are using\n",
    "\n",
    "import numpy as np\n",
    "from qiskit import *\n",
    "%matplotlib inline\n",
    "\n",
    "# The asterisk after 'import' means we are importing everything"
   ]
  },
  {
   "cell_type": "code",
   "execution_count": 2,
   "metadata": {},
   "outputs": [],
   "source": [
    "# Now we need to register the number of qubits we want to use\n",
    "# In this case we are going to create three qubits\n",
    "# In order to do that, we use the following command:\n",
    "\n",
    "q = QuantumRegister(3, 'q')"
   ]
  },
  {
   "cell_type": "code",
   "execution_count": 3,
   "metadata": {},
   "outputs": [],
   "source": [
    "# Now we select those qubits and we place them inside a circuit\n",
    "# In order to do that, we create the circuit with the following command\n",
    "\n",
    "circ = QuantumCircuit(q)"
   ]
  },
  {
   "cell_type": "code",
   "execution_count": 4,
   "metadata": {},
   "outputs": [
    {
     "data": {
      "text/plain": [
       "<qiskit.extensions.standard.h.HGate at 0x1247fd4e0>"
      ]
     },
     "execution_count": 4,
     "metadata": {},
     "output_type": "execute_result"
    }
   ],
   "source": [
    "# Once that's done, what we want to do now is to create the state:\n",
    "# (|000>+|111>)/sqrt(2)\n",
    "# The IBM quantum computer puts all the qubits in the |0> state\n",
    "# The first thing we'll do is to put the first qubit into the superposition state:\n",
    "# |0> --> (|0>+|1>)/sqrt(2)\n",
    "# To do that, we need to use quantum logic gates\n",
    "# The gate that puts the qubit into the superposition state is the Hammard gate\n",
    "# To make use of this gate what we have to do is:\n",
    "\n",
    "circ.h(q[0])"
   ]
  },
  {
   "cell_type": "code",
   "execution_count": 5,
   "metadata": {},
   "outputs": [
    {
     "data": {
      "text/plain": [
       "<qiskit.extensions.standard.cx.CnotGate at 0x124b340b8>"
      ]
     },
     "execution_count": 5,
     "metadata": {},
     "output_type": "execute_result"
    }
   ],
   "source": [
    "# Now what we do is to apply two other gates\n",
    "# We have to entangle the other two qubits with the one we have in the superposition state\n",
    "# This will give us the state:\n",
    "# (|00>+|10>)/sqrt(2)\n",
    "# And now, we have to apply the cnot gate which will transfor the |10> state to |11> state\n",
    "# To apply this gate we use the following command:\n",
    "\n",
    "circ.cx(q[0], q[1])\n",
    "\n",
    "# Notice we first write the qubit we want to entangle with"
   ]
  },
  {
   "cell_type": "code",
   "execution_count": 6,
   "metadata": {},
   "outputs": [
    {
     "data": {
      "text/plain": [
       "<qiskit.extensions.standard.cx.CnotGate at 0x124b34320>"
      ]
     },
     "execution_count": 6,
     "metadata": {},
     "output_type": "execute_result"
    }
   ],
   "source": [
    "# And last, we repeat the latest step with the last qubit\n",
    "# This can be easily done with the command:\n",
    "\n",
    "circ.cx(q[0], q[2])\n",
    "\n",
    "# Notice we first write the qubit we want to entangle with"
   ]
  },
  {
   "cell_type": "code",
   "execution_count": 13,
   "metadata": {},
   "outputs": [
    {
     "data": {
      "text/html": [
       "<pre style=\"word-wrap: normal;white-space: pre;line-height: 15px;\">        ┌───┐          \n",
       "q_0: |0>┤ H ├──■────■──\n",
       "        └───┘┌─┴─┐  │  \n",
       "q_1: |0>─────┤ X ├──┼──\n",
       "             └───┘┌─┴─┐\n",
       "q_2: |0>──────────┤ X ├\n",
       "                  └───┘</pre>"
      ],
      "text/plain": [
       "<qiskit.visualization.text.TextDrawing at 0x124d53a58>"
      ]
     },
     "execution_count": 13,
     "metadata": {},
     "output_type": "execute_result"
    }
   ],
   "source": [
    "# Now, we are going to be able to draw the circuit we have built\n",
    "# To do that we use the following command:\n",
    "\n",
    "circ.draw()\n",
    "\n",
    "# It is very important to run this command once we are sure we have the right circuit\n",
    "# If we correct the circuit and then run this command again the circuit we will obtain\n",
    "# would be the first circuit we had plust the circuit we corrected\n",
    "# We have to run everything from the top to obtain the corrected circuit"
   ]
  },
  {
   "cell_type": "code",
   "execution_count": 15,
   "metadata": {},
   "outputs": [
    {
     "data": {
      "image/png": "[encoded data removed]",
      "text/plain": [
       "<PIL.Image.Image image mode=RGB size=305x132 at 0x124D53F28>"
      ]
     },
     "execution_count": 15,
     "metadata": {},
     "output_type": "execute_result"
    }
   ],
   "source": [
    "# If we wanted the latex version of the circuit we use the command:\n",
    "\n",
    "circ.draw(output='latex')"
   ]
  }
 ],
 "metadata": {
  "kernelspec": {
   "display_name": "Python 3",
   "language": "python",
   "name": "python3"
  },
  "language_info": {
   "codemirror_mode": {
    "name": "ipython",
    "version": 3
   },
   "file_extension": ".py",
   "mimetype": "text/x-python",
   "name": "python",
   "nbconvert_exporter": "python",
   "pygments_lexer": "ipython3",
   "version": "3.7.3"
  }
 },
 "nbformat": 4,
 "nbformat_minor": 2
}
