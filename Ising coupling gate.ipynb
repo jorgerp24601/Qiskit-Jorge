{
 "cells": [
  {
   "cell_type": "code",
   "execution_count": 1,
   "metadata": {},
   "outputs": [
    {
     "data": {
      "image/png": "[encoded data removed]",
      "text/plain": [
       "<Figure size 481.6x138.46 with 1 Axes>"
      ]
     },
     "execution_count": 1,
     "metadata": {},
     "output_type": "execute_result"
    }
   ],
   "source": [
    "# Our puporse here is to create an Ising gate in which the shape of it is\n",
    "# I=[exp(ia), 0, 0, 0; \n",
    "#     0, exp(-ia), 0, 0;\n",
    "#     0, 0, exp(-ia), 0;\n",
    "#     0, 0, 0, exp(ia)]\n",
    "import numpy as np\n",
    "from qiskit import *\n",
    "%matplotlib inline\n",
    "\n",
    "#Now we create the qubits and the circuit\n",
    "q = QuantumRegister(2, 'q')\n",
    "circ = QuantumCircuit(q)\n",
    "\n",
    "#And we apply the following gates gates\n",
    "\n",
    "# The parameter of the exponential\n",
    "a=3\n",
    "circ.rzz(-a,q[0],q[1])\n",
    "circ.cu1(a,q[0],q[1])\n",
    "circ.x(q[0])\n",
    "circ.x(q[1])\n",
    "circ.cu1(a,q[0],q[1])\n",
    "circ.x(q[0])\n",
    "circ.x(q[1])\n",
    "#We will show the circuit too to keep track of what we are doing\n",
    "circ.draw(output='mpl')"
   ]
  },
  {
   "cell_type": "code",
   "execution_count": 2,
   "metadata": {},
   "outputs": [
    {
     "name": "stdout",
     "output_type": "stream",
     "text": [
      "[[-0.99+0.1411j  0.  +0.j      0.  +0.j      0.  +0.j    ]\n",
      " [ 0.  +0.j     -0.99-0.1411j  0.  +0.j      0.  +0.j    ]\n",
      " [ 0.  +0.j      0.  +0.j     -0.99-0.1411j  0.  +0.j    ]\n",
      " [ 0.  +0.j      0.  +0.j      0.  +0.j     -0.99+0.1411j]]\n"
     ]
    }
   ],
   "source": [
    "backend2 = BasicAer.get_backend('unitary_simulator')\n",
    "job2 = execute(circ, backend2)\n",
    "result2 = job2.result()\n",
    "print(result2.get_unitary(circ, decimals=4))"
   ]
  }
 ],
 "metadata": {
  "kernelspec": {
   "display_name": "Python 3",
   "language": "python",
   "name": "python3"
  },
  "language_info": {
   "codemirror_mode": {
    "name": "ipython",
    "version": 3
   },
   "file_extension": ".py",
   "mimetype": "text/x-python",
   "name": "python",
   "nbconvert_exporter": "python",
   "pygments_lexer": "ipython3",
   "version": "3.7.3"
  }
 },
 "nbformat": 4,
 "nbformat_minor": 2
}
